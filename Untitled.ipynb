{
 "cells": [
  {
   "cell_type": "code",
   "execution_count": 2,
   "id": "9c197c21-eb0f-4526-a787-d95e7f3f8d1d",
   "metadata": {},
   "outputs": [],
   "source": [
    "# preprocess_data.py\n",
    "import json\n",
    "\n",
    "# Load your data\n",
    "with open('data/train_alpaca.json', 'r') as f:\n",
    "    data = json.load(f)\n",
    "\n",
    "# Convert to simple completion format\n",
    "processed_data = []\n",
    "for item in data:\n",
    "    template = \"\"\"Human: {question}\n",
    "Response 1: {choice}\n",
    "Response 2: {choice_2}\n",
    "Claim: Response 1 is more helpful and harmless than Response 2.\n",
    "I think this claim is \"\"\"\n",
    "    \n",
    "    completion = item['label']\n",
    "    \n",
    "    processed_data.append({\n",
    "        \"text\": template.format(question=item['question'], choice=item['choice'].replace(\"\\n\", \"\"), choice_2=item['choice_2'].replace(\"\\n\", \"\")),\n",
    "        \"completion\": completion\n",
    "    })\n",
    "\n",
    "# Save processed data\n",
    "with open('processed_data.jsonl', 'w') as f:\n",
    "    for item in processed_data:\n",
    "        f.write(json.dumps(item) + '\\n')"
   ]
  },
  {
   "cell_type": "code",
   "execution_count": null,
   "id": "5746afe3-cfbe-4bd8-8b25-1c0f2c5093ec",
   "metadata": {},
   "outputs": [],
   "source": []
  }
 ],
 "metadata": {
  "kernelspec": {
   "display_name": "Python 3 (ipykernel)",
   "language": "python",
   "name": "python3"
  },
  "language_info": {
   "codemirror_mode": {
    "name": "ipython",
    "version": 3
   },
   "file_extension": ".py",
   "mimetype": "text/x-python",
   "name": "python",
   "nbconvert_exporter": "python",
   "pygments_lexer": "ipython3",
   "version": "3.10.12"
  }
 },
 "nbformat": 4,
 "nbformat_minor": 5
}
